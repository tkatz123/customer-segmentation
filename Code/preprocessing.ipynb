{
 "cells": [
  {
   "cell_type": "markdown",
   "id": "33decbfe",
   "metadata": {},
   "source": [
    "# Data Preprocessing Notebook"
   ]
  },
  {
   "cell_type": "markdown",
   "id": "5fd5e0d0",
   "metadata": {},
   "source": [
    "This notebook provides a walkthrough of the data preprocessing steps using PySpark, preparing the dataset for subsequent exploratory data analysis and modeling."
   ]
  },
  {
   "cell_type": "markdown",
   "id": "f6b16a96",
   "metadata": {},
   "source": [
    "## Setting Up Spark Environment"
   ]
  },
  {
   "cell_type": "code",
   "execution_count": 20,
   "id": "60e77708",
   "metadata": {},
   "outputs": [],
   "source": [
    "import os\n",
    "\n",
    "# Set Java and Spark paths\n",
    "os.environ[\"JAVA_HOME\"] = \"/opt/homebrew/opt/openjdk@17\"\n",
    "os.environ[\"SPARK_HOME\"] = \"/opt/homebrew/Cellar/apache-spark/4.0.0/libexec\"\n",
    "\n",
    "from pyspark.sql import SparkSession\n",
    "\n",
    "# Create Spark session\n",
    "spark = SparkSession.builder \\\n",
    "    .appName(\"PreprocessingNotebook\") \\\n",
    "    .getOrCreate()"
   ]
  },
  {
   "cell_type": "markdown",
   "id": "98ac298e",
   "metadata": {},
   "source": [
    "## Loading Data"
   ]
  },
  {
   "cell_type": "code",
   "execution_count": 21,
   "id": "276af232",
   "metadata": {},
   "outputs": [],
   "source": [
    "#Reading in data from CSV file in data folder\n",
    "customer_data = spark.read.option(\"sep\", \"\\t\").option(\"inferSchema\", \"true\").csv(\"../Data/marketing_campaign.csv\", header = True)"
   ]
  },
  {
   "cell_type": "code",
   "execution_count": 22,
   "id": "00564c5c",
   "metadata": {},
   "outputs": [
    {
     "name": "stdout",
     "output_type": "stream",
     "text": [
      "root\n",
      " |-- ID: integer (nullable = true)\n",
      " |-- Year_Birth: integer (nullable = true)\n",
      " |-- Education: string (nullable = true)\n",
      " |-- Marital_Status: string (nullable = true)\n",
      " |-- Income: integer (nullable = true)\n",
      " |-- Kidhome: integer (nullable = true)\n",
      " |-- Teenhome: integer (nullable = true)\n",
      " |-- Dt_Customer: string (nullable = true)\n",
      " |-- Recency: integer (nullable = true)\n",
      " |-- MntWines: integer (nullable = true)\n",
      " |-- MntFruits: integer (nullable = true)\n",
      " |-- MntMeatProducts: integer (nullable = true)\n",
      " |-- MntFishProducts: integer (nullable = true)\n",
      " |-- MntSweetProducts: integer (nullable = true)\n",
      " |-- MntGoldProds: integer (nullable = true)\n",
      " |-- NumDealsPurchases: integer (nullable = true)\n",
      " |-- NumWebPurchases: integer (nullable = true)\n",
      " |-- NumCatalogPurchases: integer (nullable = true)\n",
      " |-- NumStorePurchases: integer (nullable = true)\n",
      " |-- NumWebVisitsMonth: integer (nullable = true)\n",
      " |-- AcceptedCmp3: integer (nullable = true)\n",
      " |-- AcceptedCmp4: integer (nullable = true)\n",
      " |-- AcceptedCmp5: integer (nullable = true)\n",
      " |-- AcceptedCmp1: integer (nullable = true)\n",
      " |-- AcceptedCmp2: integer (nullable = true)\n",
      " |-- Complain: integer (nullable = true)\n",
      " |-- Z_CostContact: integer (nullable = true)\n",
      " |-- Z_Revenue: integer (nullable = true)\n",
      " |-- Response: integer (nullable = true)\n",
      "\n"
     ]
    }
   ],
   "source": [
    "#Verify data was read in correctly\n",
    "customer_data.printSchema()"
   ]
  },
  {
   "cell_type": "code",
   "execution_count": 23,
   "id": "def06870",
   "metadata": {},
   "outputs": [
    {
     "name": "stdout",
     "output_type": "stream",
     "text": [
      "+----+----------+----------+--------------+------+-------+--------+-----------+-------+--------+---------+---------------+---------------+----------------+------------+-----------------+---------------+-------------------+-----------------+-----------------+------------+------------+------------+------------+------------+--------+-------------+---------+--------+\n",
      "|  ID|Year_Birth| Education|Marital_Status|Income|Kidhome|Teenhome|Dt_Customer|Recency|MntWines|MntFruits|MntMeatProducts|MntFishProducts|MntSweetProducts|MntGoldProds|NumDealsPurchases|NumWebPurchases|NumCatalogPurchases|NumStorePurchases|NumWebVisitsMonth|AcceptedCmp3|AcceptedCmp4|AcceptedCmp5|AcceptedCmp1|AcceptedCmp2|Complain|Z_CostContact|Z_Revenue|Response|\n",
      "+----+----------+----------+--------------+------+-------+--------+-----------+-------+--------+---------+---------------+---------------+----------------+------------+-----------------+---------------+-------------------+-----------------+-----------------+------------+------------+------------+------------+------------+--------+-------------+---------+--------+\n",
      "|5524|      1957|Graduation|        Single| 58138|      0|       0| 04-09-2012|     58|     635|       88|            546|            172|              88|          88|                3|              8|                 10|                4|                7|           0|           0|           0|           0|           0|       0|            3|       11|       1|\n",
      "|2174|      1954|Graduation|        Single| 46344|      1|       1| 08-03-2014|     38|      11|        1|              6|              2|               1|           6|                2|              1|                  1|                2|                5|           0|           0|           0|           0|           0|       0|            3|       11|       0|\n",
      "|4141|      1965|Graduation|      Together| 71613|      0|       0| 21-08-2013|     26|     426|       49|            127|            111|              21|          42|                1|              8|                  2|               10|                4|           0|           0|           0|           0|           0|       0|            3|       11|       0|\n",
      "|6182|      1984|Graduation|      Together| 26646|      1|       0| 10-02-2014|     26|      11|        4|             20|             10|               3|           5|                2|              2|                  0|                4|                6|           0|           0|           0|           0|           0|       0|            3|       11|       0|\n",
      "|5324|      1981|       PhD|       Married| 58293|      1|       0| 19-01-2014|     94|     173|       43|            118|             46|              27|          15|                5|              5|                  3|                6|                5|           0|           0|           0|           0|           0|       0|            3|       11|       0|\n",
      "|7446|      1967|    Master|      Together| 62513|      0|       1| 09-09-2013|     16|     520|       42|             98|              0|              42|          14|                2|              6|                  4|               10|                6|           0|           0|           0|           0|           0|       0|            3|       11|       0|\n",
      "| 965|      1971|Graduation|      Divorced| 55635|      0|       1| 13-11-2012|     34|     235|       65|            164|             50|              49|          27|                4|              7|                  3|                7|                6|           0|           0|           0|           0|           0|       0|            3|       11|       0|\n",
      "|6177|      1985|       PhD|       Married| 33454|      1|       0| 08-05-2013|     32|      76|       10|             56|              3|               1|          23|                2|              4|                  0|                4|                8|           0|           0|           0|           0|           0|       0|            3|       11|       0|\n",
      "|4855|      1974|       PhD|      Together| 30351|      1|       0| 06-06-2013|     19|      14|        0|             24|              3|               3|           2|                1|              3|                  0|                2|                9|           0|           0|           0|           0|           0|       0|            3|       11|       1|\n",
      "|5899|      1950|       PhD|      Together|  5648|      1|       1| 13-03-2014|     68|      28|        0|              6|              1|               1|          13|                1|              1|                  0|                0|               20|           1|           0|           0|           0|           0|       0|            3|       11|       0|\n",
      "|1994|      1983|Graduation|       Married|  NULL|      1|       0| 15-11-2013|     11|       5|        5|              6|              0|               2|           1|                1|              1|                  0|                2|                7|           0|           0|           0|           0|           0|       0|            3|       11|       0|\n",
      "| 387|      1976|     Basic|       Married|  7500|      0|       0| 13-11-2012|     59|       6|       16|             11|             11|               1|          16|                1|              2|                  0|                3|                8|           0|           0|           0|           0|           0|       0|            3|       11|       0|\n",
      "|2125|      1959|Graduation|      Divorced| 63033|      0|       0| 15-11-2013|     82|     194|       61|            480|            225|             112|          30|                1|              3|                  4|                8|                2|           0|           0|           0|           0|           0|       0|            3|       11|       0|\n",
      "|8180|      1952|    Master|      Divorced| 59354|      1|       1| 15-11-2013|     53|     233|        2|             53|              3|               5|          14|                3|              6|                  1|                5|                6|           0|           0|           0|           0|           0|       0|            3|       11|       0|\n",
      "|2569|      1987|Graduation|       Married| 17323|      0|       0| 10-10-2012|     38|       3|       14|             17|              6|               1|           5|                1|              1|                  0|                3|                8|           0|           0|           0|           0|           0|       0|            3|       11|       0|\n",
      "|2114|      1946|       PhD|        Single| 82800|      0|       0| 24-11-2012|     23|    1006|       22|            115|             59|              68|          45|                1|              7|                  6|               12|                3|           0|           0|           1|           1|           0|       0|            3|       11|       1|\n",
      "|9736|      1980|Graduation|       Married| 41850|      1|       1| 24-12-2012|     51|      53|        5|             19|              2|              13|           4|                3|              3|                  0|                3|                8|           0|           0|           0|           0|           0|       0|            3|       11|       0|\n",
      "|4939|      1946|Graduation|      Together| 37760|      0|       0| 31-08-2012|     20|      84|        5|             38|            150|              12|          28|                2|              4|                  1|                6|                7|           0|           0|           0|           0|           0|       0|            3|       11|       0|\n",
      "|6565|      1949|    Master|       Married| 76995|      0|       1| 28-03-2013|     91|    1012|       80|            498|              0|              16|         176|                2|             11|                  4|                9|                5|           0|           0|           0|           1|           0|       0|            3|       11|       0|\n",
      "|2278|      1985|  2n Cycle|        Single| 33812|      1|       0| 03-11-2012|     86|       4|       17|             19|             30|              24|          39|                2|              2|                  1|                3|                6|           0|           0|           0|           0|           0|       0|            3|       11|       0|\n",
      "+----+----------+----------+--------------+------+-------+--------+-----------+-------+--------+---------+---------------+---------------+----------------+------------+-----------------+---------------+-------------------+-----------------+-----------------+------------+------------+------------+------------+------------+--------+-------------+---------+--------+\n",
      "only showing top 20 rows\n"
     ]
    }
   ],
   "source": [
    "#Inspect first 20 rows of data\n",
    "customer_data.show()"
   ]
  },
  {
   "cell_type": "code",
   "execution_count": 24,
   "id": "6ee0db67",
   "metadata": {},
   "outputs": [
    {
     "name": "stdout",
     "output_type": "stream",
     "text": [
      "2240\n"
     ]
    }
   ],
   "source": [
    "#Gets number of rows in the dataset\n",
    "row_count = customer_data.count()\n",
    "\n",
    "print(row_count)\n",
    "\n",
    "#2,240 rows in DF"
   ]
  },
  {
   "cell_type": "markdown",
   "id": "032bccc9",
   "metadata": {},
   "source": [
    "## Data Cleaning"
   ]
  },
  {
   "cell_type": "markdown",
   "id": "07e9ecd1",
   "metadata": {},
   "source": [
    "After an initial review of the dataset, the formatting appeared consistent across all variables, with the exception of `DT_Customers`, which will be converted to a datetime format later in the process. The remaining preprocessing steps involved handling rows containing missing values and removing columns deemed irrelevant for the analysis."
   ]
  },
  {
   "cell_type": "code",
   "execution_count": 25,
   "id": "6d6e9a80",
   "metadata": {},
   "outputs": [
    {
     "name": "stdout",
     "output_type": "stream",
     "text": [
      "+---+----------+---------+--------------+------+-------+--------+-----------+-------+--------+---------+---------------+---------------+----------------+------------+-----------------+---------------+-------------------+-----------------+-----------------+------------+------------+------------+------------+------------+--------+-------------+---------+--------+\n",
      "| ID|Year_Birth|Education|Marital_Status|Income|Kidhome|Teenhome|Dt_Customer|Recency|MntWines|MntFruits|MntMeatProducts|MntFishProducts|MntSweetProducts|MntGoldProds|NumDealsPurchases|NumWebPurchases|NumCatalogPurchases|NumStorePurchases|NumWebVisitsMonth|AcceptedCmp3|AcceptedCmp4|AcceptedCmp5|AcceptedCmp1|AcceptedCmp2|Complain|Z_CostContact|Z_Revenue|Response|\n",
      "+---+----------+---------+--------------+------+-------+--------+-----------+-------+--------+---------+---------------+---------------+----------------+------------+-----------------+---------------+-------------------+-----------------+-----------------+------------+------------+------------+------------+------------+--------+-------------+---------+--------+\n",
      "|  0|         0|        0|             0|    24|      0|       0|          0|      0|       0|        0|              0|              0|               0|           0|                0|              0|                  0|                0|                0|           0|           0|           0|           0|           0|       0|            0|        0|       0|\n",
      "+---+----------+---------+--------------+------+-------+--------+-----------+-------+--------+---------+---------------+---------------+----------------+------------+-----------------+---------------+-------------------+-----------------+-----------------+------------+------------+------------+------------+------------+--------+-------------+---------+--------+\n",
      "\n"
     ]
    }
   ],
   "source": [
    "from pyspark.sql import functions as F\n",
    "\n",
    "#Showing the number of NA values in each column of the dataset\n",
    "null_counts = customer_data.select([F.count(F.when(F.col(c).isNull(), c)).alias(c) for c in customer_data.columns])\n",
    "\n",
    "null_counts.show()"
   ]
  },
  {
   "cell_type": "markdown",
   "id": "874ac19c",
   "metadata": {},
   "source": [
    "The only column with missing values is `Income`, which contains 24 NA entries. These rows will be removed, as over 2,000 observations will remain—providing sufficient data for subsequent analysis and modeling."
   ]
  },
  {
   "cell_type": "code",
   "execution_count": 26,
   "id": "4a1d0722",
   "metadata": {},
   "outputs": [],
   "source": [
    "#Dropping rows with NA values in the Income column\n",
    "customer_data = customer_data.na.drop(subset = ['Income'])"
   ]
  },
  {
   "cell_type": "code",
   "execution_count": 27,
   "id": "6822dfda",
   "metadata": {},
   "outputs": [
    {
     "name": "stdout",
     "output_type": "stream",
     "text": [
      "2216\n"
     ]
    }
   ],
   "source": [
    "#Checking how many rows are in the dataset after dropping NA values\n",
    "row_count = customer_data.count()\n",
    "\n",
    "print(row_count)"
   ]
  },
  {
   "cell_type": "code",
   "execution_count": 28,
   "id": "ba6700e5",
   "metadata": {},
   "outputs": [
    {
     "name": "stdout",
     "output_type": "stream",
     "text": [
      "+---+----------+---------+--------------+------+-------+--------+-----------+-------+--------+---------+---------------+---------------+----------------+------------+-----------------+---------------+-------------------+-----------------+-----------------+------------+------------+------------+------------+------------+--------+-------------+---------+--------+\n",
      "| ID|Year_Birth|Education|Marital_Status|Income|Kidhome|Teenhome|Dt_Customer|Recency|MntWines|MntFruits|MntMeatProducts|MntFishProducts|MntSweetProducts|MntGoldProds|NumDealsPurchases|NumWebPurchases|NumCatalogPurchases|NumStorePurchases|NumWebVisitsMonth|AcceptedCmp3|AcceptedCmp4|AcceptedCmp5|AcceptedCmp1|AcceptedCmp2|Complain|Z_CostContact|Z_Revenue|Response|\n",
      "+---+----------+---------+--------------+------+-------+--------+-----------+-------+--------+---------+---------------+---------------+----------------+------------+-----------------+---------------+-------------------+-----------------+-----------------+------------+------------+------------+------------+------------+--------+-------------+---------+--------+\n",
      "|  0|         0|        0|             0|     0|      0|       0|          0|      0|       0|        0|              0|              0|               0|           0|                0|              0|                  0|                0|                0|           0|           0|           0|           0|           0|       0|            0|        0|       0|\n",
      "+---+----------+---------+--------------+------+-------+--------+-----------+-------+--------+---------+---------------+---------------+----------------+------------+-----------------+---------------+-------------------+-----------------+-----------------+------------+------------+------------+------------+------------+--------+-------------+---------+--------+\n",
      "\n"
     ]
    }
   ],
   "source": [
    "#Validating that there are no more NA values in the dataset\n",
    "null_counts = customer_data.select([F.count(F.when(F.col(c).isNull(), c)).alias(c) for c in customer_data.columns])\n",
    "\n",
    "null_counts.show()"
   ]
  },
  {
   "cell_type": "code",
   "execution_count": 29,
   "id": "edff4d32",
   "metadata": {},
   "outputs": [
    {
     "name": "stdout",
     "output_type": "stream",
     "text": [
      "root\n",
      " |-- ID: integer (nullable = true)\n",
      " |-- Year_Birth: integer (nullable = true)\n",
      " |-- Education: string (nullable = true)\n",
      " |-- Marital_Status: string (nullable = true)\n",
      " |-- Income: integer (nullable = true)\n",
      " |-- Kidhome: integer (nullable = true)\n",
      " |-- Teenhome: integer (nullable = true)\n",
      " |-- Dt_Customer: string (nullable = true)\n",
      " |-- Recency: integer (nullable = true)\n",
      " |-- MntWines: integer (nullable = true)\n",
      " |-- MntFruits: integer (nullable = true)\n",
      " |-- MntMeatProducts: integer (nullable = true)\n",
      " |-- MntFishProducts: integer (nullable = true)\n",
      " |-- MntSweetProducts: integer (nullable = true)\n",
      " |-- MntGoldProds: integer (nullable = true)\n",
      " |-- NumDealsPurchases: integer (nullable = true)\n",
      " |-- NumWebPurchases: integer (nullable = true)\n",
      " |-- NumCatalogPurchases: integer (nullable = true)\n",
      " |-- NumStorePurchases: integer (nullable = true)\n",
      " |-- NumWebVisitsMonth: integer (nullable = true)\n",
      " |-- AcceptedCmp3: integer (nullable = true)\n",
      " |-- AcceptedCmp4: integer (nullable = true)\n",
      " |-- AcceptedCmp5: integer (nullable = true)\n",
      " |-- AcceptedCmp1: integer (nullable = true)\n",
      " |-- AcceptedCmp2: integer (nullable = true)\n",
      " |-- Complain: integer (nullable = true)\n",
      "\n"
     ]
    }
   ],
   "source": [
    "#Drops columns we won't be using for efficiency\n",
    "customer_data_filtered = customer_data.drop('Z_CostContact', 'Z_Revenue', 'Response')\n",
    "\n",
    "#Printing schema of filtered table to ensure necessary columns where dropped\n",
    "customer_data_filtered.printSchema()"
   ]
  },
  {
   "cell_type": "markdown",
   "id": "8ef183c6",
   "metadata": {},
   "source": [
    "## Feature Engineering"
   ]
  },
  {
   "cell_type": "markdown",
   "id": "db744d33",
   "metadata": {},
   "source": [
    "Based on my initial analysis, I identified opportunities to engineer new features that could provide additional insights into customer behavior. I also recognized that the `Education` and `Marital_Status` columns, being categorical variables without inherent ordinal relationships, would require one-hot encoding. This transformation will be implemented later during the clustering pipeline."
   ]
  },
  {
   "cell_type": "code",
   "execution_count": 30,
   "id": "55076c6a",
   "metadata": {},
   "outputs": [],
   "source": [
    "from pyspark.sql.functions import when\n",
    "\n",
    "#Creating the feature engineering dataframe which is a copy of the filtered dataframe\n",
    "customer_data_fe = customer_data_filtered\n",
    "\n",
    "#Creates total_num_kids column which combines the two kids columns to get the total number of kids\n",
    "customer_data_fe = customer_data_fe.withColumn('total_num_kids',\n",
    "                                                     F.col('Kidhome') + F.col('Teenhome')\n",
    "                                                     )\n",
    "#Converting Dt_Customer into a date value\n",
    "customer_data_fe = customer_data_fe.withColumn('Dt_Customer_datetime',\n",
    "                                                     F.to_date(F.col('Dt_Customer'), 'dd-MM-yyyy')\n",
    "                                                     )\n",
    "\n",
    "#Gets the maximum date from the Dt_Customer_datetime column\n",
    "dt_max_date = customer_data_fe.select(F.max('Dt_Customer_datetime')).collect()[0][0]\n",
    "\n",
    "#Creates the total_days_filtered which subtracts each dates from the maxiumum (most recent) date\n",
    "customer_data_fe = customer_data_fe.withColumn('total_days_enlisted',\n",
    "                                               F.date_diff(F.lit(dt_max_date), F.col('Dt_Customer_datetime'))\n",
    "                                               )\n",
    "\n",
    "#Creates the total_campaigns_accepted column which is a sum of AcceptedCmp1-5\n",
    "customer_data_fe = customer_data_fe.withColumn('total_campaigns_accepted',\n",
    "                                               F.col('AcceptedCmp1') + F.col('AcceptedCmp2') + F.col('AcceptedCmp3') + F.col('AcceptedCmp4') + F.col('AcceptedCmp5')\n",
    "                                               )\n",
    "#Extracts the year from the maximum date\n",
    "max_year = dt_max_date.year\n",
    "\n",
    "#Creates an age column that subtracts the maximum year from the Year_Birth\n",
    "customer_data_fe = customer_data_fe.withColumn('age',\n",
    "                                               F.lit(max_year) - F.col('Year_Birth')\n",
    "                                               )\n",
    "\n",
    "# Remove invalid categories\n",
    "customer_data_fe = customer_data_fe.filter(~F.col(\"Marital_Status\").isin(\"YOLO\", \"Absurd\"))\n",
    "\n",
    "# Replace 'Alone' with 'Single'\n",
    "customer_data_fe = customer_data_fe.withColumn(\"Marital_Status\",\n",
    "    when(F.col(\"Marital_Status\") == \"Alone\", \"Single\").otherwise(F.col(\"Marital_Status\"))\n",
    ")\n",
    "\n",
    "customer_data_fe = customer_data_fe.withColumn(\n",
    "    \"Education\",\n",
    "    when(F.col(\"Education\") == \"Basic\", \"High School\")\n",
    "    .when(F.col(\"Education\") == \"Graduation\", \"Bachelors\")\n",
    "    .otherwise(F.col(\"Education\"))\n",
    ")\n",
    "\n",
    "# Create total spent column for further analysis\n",
    "cols = [\"MntWines\", \"MntFruits\", \"MntMeatProducts\",\n",
    "        \"MntFishProducts\", \"MntSweetProducts\", \"MntGoldProds\"]\n",
    "\n",
    "customer_data_fe = customer_data_fe.withColumn(\"total_spent\", sum([F.col(c) for c in cols]))\n",
    "\n",
    "# Create age groups\n",
    "customer_data_fe = customer_data_fe.withColumn(\n",
    "    \"age_group\",\n",
    "    F.when(F.col(\"age\") < 30, \"under 30\")\n",
    "     .when(F.col(\"age\") < 40, \"30s\")\n",
    "     .when(F.col(\"age\") < 50, \"40s\")\n",
    "     .when(F.col(\"age\") < 60, \"50s\")\n",
    "     .otherwise(\"60+\")\n",
    ")"
   ]
  },
  {
   "cell_type": "code",
   "execution_count": 31,
   "id": "73a7b45f",
   "metadata": {},
   "outputs": [
    {
     "name": "stdout",
     "output_type": "stream",
     "text": [
      "+----+----------+-----------+--------------+------+-------+--------+-----------+-------+--------+---------+---------------+---------------+----------------+------------+-----------------+---------------+-------------------+-----------------+-----------------+------------+------------+------------+------------+------------+--------+--------------+--------------------+-------------------+------------------------+---+-----------+---------+\n",
      "|  ID|Year_Birth|  Education|Marital_Status|Income|Kidhome|Teenhome|Dt_Customer|Recency|MntWines|MntFruits|MntMeatProducts|MntFishProducts|MntSweetProducts|MntGoldProds|NumDealsPurchases|NumWebPurchases|NumCatalogPurchases|NumStorePurchases|NumWebVisitsMonth|AcceptedCmp3|AcceptedCmp4|AcceptedCmp5|AcceptedCmp1|AcceptedCmp2|Complain|total_num_kids|Dt_Customer_datetime|total_days_enlisted|total_campaigns_accepted|age|total_spent|age_group|\n",
      "+----+----------+-----------+--------------+------+-------+--------+-----------+-------+--------+---------+---------------+---------------+----------------+------------+-----------------+---------------+-------------------+-----------------+-----------------+------------+------------+------------+------------+------------+--------+--------------+--------------------+-------------------+------------------------+---+-----------+---------+\n",
      "|5524|      1957|  Bachelors|        Single| 58138|      0|       0| 04-09-2012|     58|     635|       88|            546|            172|              88|          88|                3|              8|                 10|                4|                7|           0|           0|           0|           0|           0|       0|             0|          2012-09-04|                663|                       0| 57|       1617|      50s|\n",
      "|2174|      1954|  Bachelors|        Single| 46344|      1|       1| 08-03-2014|     38|      11|        1|              6|              2|               1|           6|                2|              1|                  1|                2|                5|           0|           0|           0|           0|           0|       0|             2|          2014-03-08|                113|                       0| 60|         27|      60+|\n",
      "|4141|      1965|  Bachelors|      Together| 71613|      0|       0| 21-08-2013|     26|     426|       49|            127|            111|              21|          42|                1|              8|                  2|               10|                4|           0|           0|           0|           0|           0|       0|             0|          2013-08-21|                312|                       0| 49|        776|      40s|\n",
      "|6182|      1984|  Bachelors|      Together| 26646|      1|       0| 10-02-2014|     26|      11|        4|             20|             10|               3|           5|                2|              2|                  0|                4|                6|           0|           0|           0|           0|           0|       0|             1|          2014-02-10|                139|                       0| 30|         53|      30s|\n",
      "|5324|      1981|        PhD|       Married| 58293|      1|       0| 19-01-2014|     94|     173|       43|            118|             46|              27|          15|                5|              5|                  3|                6|                5|           0|           0|           0|           0|           0|       0|             1|          2014-01-19|                161|                       0| 33|        422|      30s|\n",
      "|7446|      1967|     Master|      Together| 62513|      0|       1| 09-09-2013|     16|     520|       42|             98|              0|              42|          14|                2|              6|                  4|               10|                6|           0|           0|           0|           0|           0|       0|             1|          2013-09-09|                293|                       0| 47|        716|      40s|\n",
      "| 965|      1971|  Bachelors|      Divorced| 55635|      0|       1| 13-11-2012|     34|     235|       65|            164|             50|              49|          27|                4|              7|                  3|                7|                6|           0|           0|           0|           0|           0|       0|             1|          2012-11-13|                593|                       0| 43|        590|      40s|\n",
      "|6177|      1985|        PhD|       Married| 33454|      1|       0| 08-05-2013|     32|      76|       10|             56|              3|               1|          23|                2|              4|                  0|                4|                8|           0|           0|           0|           0|           0|       0|             1|          2013-05-08|                417|                       0| 29|        169| under 30|\n",
      "|4855|      1974|        PhD|      Together| 30351|      1|       0| 06-06-2013|     19|      14|        0|             24|              3|               3|           2|                1|              3|                  0|                2|                9|           0|           0|           0|           0|           0|       0|             1|          2013-06-06|                388|                       0| 40|         46|      40s|\n",
      "|5899|      1950|        PhD|      Together|  5648|      1|       1| 13-03-2014|     68|      28|        0|              6|              1|               1|          13|                1|              1|                  0|                0|               20|           1|           0|           0|           0|           0|       0|             2|          2014-03-13|                108|                       1| 64|         49|      60+|\n",
      "| 387|      1976|High School|       Married|  7500|      0|       0| 13-11-2012|     59|       6|       16|             11|             11|               1|          16|                1|              2|                  0|                3|                8|           0|           0|           0|           0|           0|       0|             0|          2012-11-13|                593|                       0| 38|         61|      30s|\n",
      "|2125|      1959|  Bachelors|      Divorced| 63033|      0|       0| 15-11-2013|     82|     194|       61|            480|            225|             112|          30|                1|              3|                  4|                8|                2|           0|           0|           0|           0|           0|       0|             0|          2013-11-15|                226|                       0| 55|       1102|      50s|\n",
      "|8180|      1952|     Master|      Divorced| 59354|      1|       1| 15-11-2013|     53|     233|        2|             53|              3|               5|          14|                3|              6|                  1|                5|                6|           0|           0|           0|           0|           0|       0|             2|          2013-11-15|                226|                       0| 62|        310|      60+|\n",
      "|2569|      1987|  Bachelors|       Married| 17323|      0|       0| 10-10-2012|     38|       3|       14|             17|              6|               1|           5|                1|              1|                  0|                3|                8|           0|           0|           0|           0|           0|       0|             0|          2012-10-10|                627|                       0| 27|         46| under 30|\n",
      "|2114|      1946|        PhD|        Single| 82800|      0|       0| 24-11-2012|     23|    1006|       22|            115|             59|              68|          45|                1|              7|                  6|               12|                3|           0|           0|           1|           1|           0|       0|             0|          2012-11-24|                582|                       2| 68|       1315|      60+|\n",
      "|9736|      1980|  Bachelors|       Married| 41850|      1|       1| 24-12-2012|     51|      53|        5|             19|              2|              13|           4|                3|              3|                  0|                3|                8|           0|           0|           0|           0|           0|       0|             2|          2012-12-24|                552|                       0| 34|         96|      30s|\n",
      "|4939|      1946|  Bachelors|      Together| 37760|      0|       0| 31-08-2012|     20|      84|        5|             38|            150|              12|          28|                2|              4|                  1|                6|                7|           0|           0|           0|           0|           0|       0|             0|          2012-08-31|                667|                       0| 68|        317|      60+|\n",
      "|6565|      1949|     Master|       Married| 76995|      0|       1| 28-03-2013|     91|    1012|       80|            498|              0|              16|         176|                2|             11|                  4|                9|                5|           0|           0|           0|           1|           0|       0|             1|          2013-03-28|                458|                       1| 65|       1782|      60+|\n",
      "|2278|      1985|   2n Cycle|        Single| 33812|      1|       0| 03-11-2012|     86|       4|       17|             19|             30|              24|          39|                2|              2|                  1|                3|                6|           0|           0|           0|           0|           0|       0|             1|          2012-11-03|                603|                       0| 29|        133| under 30|\n",
      "|9360|      1982|  Bachelors|       Married| 37040|      0|       0| 08-08-2012|     41|      86|        2|             73|             69|              38|          48|                1|              4|                  2|                5|                8|           0|           0|           0|           0|           0|       0|             0|          2012-08-08|                690|                       0| 32|        316|      30s|\n",
      "+----+----------+-----------+--------------+------+-------+--------+-----------+-------+--------+---------+---------------+---------------+----------------+------------+-----------------+---------------+-------------------+-----------------+-----------------+------------+------------+------------+------------+------------+--------+--------------+--------------------+-------------------+------------------------+---+-----------+---------+\n",
      "only showing top 20 rows\n"
     ]
    }
   ],
   "source": [
    "#Verify new columns added\n",
    "customer_data_fe.show()"
   ]
  },
  {
   "cell_type": "code",
   "execution_count": 32,
   "id": "8ea28a1e",
   "metadata": {},
   "outputs": [],
   "source": [
    "#Exports prepreocessed dataframe to data folder\n",
    "customer_data_fe.write.csv(\"../Data/preprocessed_segmenting_data_csv\", header = True, mode = \"overwrite\")"
   ]
  }
 ],
 "metadata": {
  "kernelspec": {
   "display_name": "Python 3",
   "language": "python",
   "name": "python3"
  },
  "language_info": {
   "codemirror_mode": {
    "name": "ipython",
    "version": 3
   },
   "file_extension": ".py",
   "mimetype": "text/x-python",
   "name": "python",
   "nbconvert_exporter": "python",
   "pygments_lexer": "ipython3",
   "version": "3.11.0"
  }
 },
 "nbformat": 4,
 "nbformat_minor": 5
}
